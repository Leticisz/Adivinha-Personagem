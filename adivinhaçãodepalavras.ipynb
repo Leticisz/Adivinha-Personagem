{
  "nbformat": 4,
  "nbformat_minor": 0,
  "metadata": {
    "colab": {
      "provenance": [],
      "authorship_tag": "ABX9TyNDH6D13ckePT2JtJtcVUAL",
      "include_colab_link": true
    },
    "kernelspec": {
      "name": "python3",
      "display_name": "Python 3"
    },
    "language_info": {
      "name": "python"
    }
  },
  "cells": [
    {
      "cell_type": "markdown",
      "metadata": {
        "id": "view-in-github",
        "colab_type": "text"
      },
      "source": [
        "<a href=\"https://colab.research.google.com/github/Leticisz/Adivinha-Personagem/blob/main/adivinha%C3%A7%C3%A3odepalavras.ipynb\" target=\"_parent\"><img src=\"https://colab.research.google.com/assets/colab-badge.svg\" alt=\"Open In Colab\"/></a>"
      ]
    },
    {
      "cell_type": "code",
      "execution_count": null,
      "metadata": {
        "id": "U_-juTL8uA37"
      },
      "outputs": [],
      "source": [
        "import random\n",
        "\n",
        "nome = input(\"Qual o seu nome?\")\n",
        "print(\"Boa Sorte!\", nome)\n",
        "print(\"Personagens do Mundo da Marvel\")\n",
        "\n",
        "palavras = ['Homem-Aranha', 'Hulk', 'Homem de Ferro','Capitão America', 'Thanos', 'Thor', 'Viuva Negra',\n",
        "           'Doutor Estranho', 'Gavião Arqueiro', 'Loki','capitã Marvel']\n",
        "\n",
        "palavra = random.choice(palavras)\n",
        "\n",
        "print(\"Adivinhe o Personagem\")\n",
        "\n",
        "palpites = ''\n",
        "\n",
        "voltas = 12\n",
        "\n",
        "while voltas > 0:\n",
        "  errou = 0\n",
        "  for char in palavra:\n",
        "    if char in palpites:\n",
        "      print(char)\n",
        "    else:\n",
        "      print(\"_\")\n",
        "      errou += 1\n",
        "    if errou == 0:\n",
        "      print(\"Voce Acertou\")\n",
        "      print(\"A palavras e:\", palavra)\n",
        "  break\n",
        "\n",
        "palpite = input(\"Advinhe um personagem:\")\n",
        "palpites += palpite\n",
        "\n",
        "if palpite not in palavra:\n",
        "  voltas -= 1 \n",
        "\n",
        "  print(\"Errado\")\n",
        "\n",
        "  print(\"Voce Tem\" , + voltas, 'mais palpites')\n",
        "\n",
        "  if voltas == 0:\n",
        "    print(\"Voce Perdeu\")"
      ]
    }
  ]
}